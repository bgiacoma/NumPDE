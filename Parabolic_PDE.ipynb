{
 "cells": [
  {
   "cell_type": "markdown",
   "metadata": {},
   "source": [
    "# Parabolic Partial Differential Equations"
   ]
  },
  {
   "cell_type": "markdown",
   "metadata": {},
   "source": [
    "## Diffusion Equation\n",
    "\n",
    "Here we solve the diffusion equation\n",
    "$$\n",
    "\\frac{\\partial u}{\\partial t} = D \\frac{\\partial^2 u}{\\partial x^2} \\quad ,\n",
    "$$\n",
    "with $D=1$, using as an initial condition a gaussian profile $u(x,t=0)=\\exp{[-(x-x_0)^2]}$ with $x_0=5$.\n",
    "\n",
    "We use a domain $x\\in [0,10]$ with periodic boundary conditions.\n",
    "\n",
    "We solve this by using the FTCS methods which is stable for the diffusion equation as long as $\\Delta t \\leq \\frac{\\Delta x^2}{(2D)}$."
   ]
  },
  {
   "cell_type": "code",
   "execution_count": null,
   "metadata": {},
   "outputs": [],
   "source": [
    "import numpy as np\n",
    "\n",
    "#define the diffusion coefficient D\n",
    "D=1.0\n",
    "\n",
    "# Define the domain\n",
    "L = 10.0     # Domain length\n",
    "nx = 101    # Number of grid points\n",
    "dx = L/(nx-1)   # Grid spacing\n",
    "x = np.linspace(0, L, nx)\n",
    "\n",
    "# Define the time step and the final time\n",
    "cf = 0.5\n",
    "dt = cf*dx**2/(2*D)   #Time step\n",
    "t_final = 5.0\n",
    "\n",
    "print('nx=',nx)\n",
    "print('dx=',dx)\n",
    "print('dt=',dt)\n",
    "print('Number of iterations=',t_final/dt)\n",
    "\n",
    "\n",
    "# Define the initial condition\n",
    "x0=5\n",
    "u_initial = np.exp(-(x-x0)**2)\n",
    "\n",
    "# Initialize the solution array\n",
    "u_current = u_initial.copy()\n",
    "\n",
    "#we create arrays where we will store the time and the l2norm\n",
    "l2norm=[]\n",
    "l2norm.append(np.sqrt(np.sum(u_current**2)/len(u_current)))\n",
    "\n",
    "time=[]\n",
    "time.append(0.0)"
   ]
  },
  {
   "cell_type": "code",
   "execution_count": null,
   "metadata": {},
   "outputs": [],
   "source": [
    "import matplotlib.pyplot as plt\n",
    "import os\n",
    "##create directory where to save images\n",
    "print(os.getcwd())\n",
    "\n",
    "os.makedirs('./images_parabolic')\n",
    "\n",
    "os.listdir('./')"
   ]
  },
  {
   "cell_type": "code",
   "execution_count": null,
   "metadata": {},
   "outputs": [],
   "source": [
    "# Initilize time and iteration counter\n",
    "t = 0.0\n",
    "i = 0\n",
    "\n",
    "#save the initial conditions\n",
    "plt.plot(x, u_current)\n",
    "plt.title('Time='+str(round(t,2)))\n",
    "plt.ylim(0,1.1)\n",
    "plt.savefig('./images_parabolic/fig_'+str(i).zfill(5)+'.png', dpi=200)\n",
    "plt.close()\n",
    "\n",
    "#solve the diffusion equation\n",
    "while t < t_final:\n",
    "    # Compute the new solution using the FTCS method\n",
    "    # Note: np.roll(u_current, -1) is equivalent to u(j+1) and\n",
    "    #       np.roll(u_current,  1) is equivalent to u(j-1)\n",
    "    # using np.roll is equivalent to use periodic boundary conditions\n",
    "    u_next = u_current + D*dt/(dx**2)*(np.roll(u_current, 1) - 2*u_current + np.roll(u_current, -1))    \n",
    "    \n",
    "    # Update the solution\n",
    "    u_current = u_next.copy()\n",
    "    \n",
    "    \n",
    "    #advance the time \n",
    "    t += dt\n",
    "    i += 1\n",
    "    \n",
    "    #compute the l2 norm and add the time to the time vector\n",
    "    l2norm.append(np.sqrt(np.sum(u_current**2)/len(u_current)))\n",
    "    time.append(t)\n",
    "    \n",
    "    #plot the current result and save in an image every 10 iterations\n",
    "    if (i%10==0):\n",
    "        plt.plot(x, u_current)\n",
    "        plt.title('Time='+str(round(t,2)))\n",
    "        plt.ylim(0,1.1)\n",
    "        plt.savefig('./images_parabolic/fig_'+str(i).zfill(5)+'.png', dpi=200)\n",
    "        plt.close()\n"
   ]
  },
  {
   "cell_type": "code",
   "execution_count": null,
   "metadata": {},
   "outputs": [],
   "source": [
    "# Plot the final solution\n",
    "plt.plot(x, u_initial, label='Initial')\n",
    "plt.plot(x, u_current, label='Final')\n",
    "plt.title('Time='+str(round(t,2)))\n",
    "plt.ylim(0,1.1)\n",
    "plt.legend()\n",
    "plt.show()"
   ]
  },
  {
   "cell_type": "code",
   "execution_count": null,
   "metadata": {},
   "outputs": [],
   "source": [
    "# set the directory where your images are stored\n",
    "directory = \"./images_parabolic/\"\n",
    "\n",
    "# get the list of image files in the directory\n",
    "files = os.listdir(directory)\n",
    "\n",
    "print(files, '\\n')\n",
    "\n",
    "# sort the files in alphanumeric order\n",
    "files=sorted(files)\n",
    "\n",
    "print(files)\n",
    "\n",
    "\n"
   ]
  },
  {
   "cell_type": "code",
   "execution_count": null,
   "metadata": {},
   "outputs": [],
   "source": [
    "import imageio\n",
    "with imageio.get_writer('./movie.mp4', mode='I', quality=10) as writer:\n",
    "    for file in files:\n",
    "        image = imageio.imread('./images_parabolic/'+file)\n",
    "        writer.append_data(image)\n",
    "        \n",
    "files=[]\n"
   ]
  },
  {
   "cell_type": "code",
   "execution_count": null,
   "metadata": {},
   "outputs": [],
   "source": [
    "# don't worry about the code in this cell, it is just to let you \n",
    "# display the movies you generated above in Jupyter notebook\n",
    "from IPython.display import HTML\n",
    "\n",
    "HTML(\"\"\"\n",
    "<div align=\"middle\">\n",
    "<video width=\"80%\" controls>\n",
    "      <source src=\"./movie.mp4\" type=\"video/mp4\">\n",
    "</video></div>\"\"\")"
   ]
  },
  {
   "cell_type": "code",
   "execution_count": null,
   "metadata": {},
   "outputs": [],
   "source": [
    "plt.plot(time,l2norm)\n",
    "plt.show()"
   ]
  },
  {
   "cell_type": "markdown",
   "metadata": {},
   "source": [
    "### Exercise\n",
    "\n",
    "Try changing the resolution (use at least three different resolutions) and compare the final solutions.\n",
    "\n",
    "Try also changing the initial data using periodic functions. For example:\n",
    "\n",
    "1. $u(x,t=0) = \\sin(2\\pi x /L) $\n",
    "2. $u(x,t=0) = \\sin(8\\pi x /L) $\n",
    "3. $u(x,t=0) = \\sin(2\\pi x /L) + \\sin(8\\pi x /L) $\n",
    "\n",
    "where $L=10$ as before. Compare the results in the different cases and comment."
   ]
  },
  {
   "cell_type": "code",
   "execution_count": null,
   "metadata": {},
   "outputs": [],
   "source": []
  },
  {
   "cell_type": "code",
   "execution_count": null,
   "metadata": {},
   "outputs": [],
   "source": []
  },
  {
   "cell_type": "markdown",
   "metadata": {},
   "source": [
    "## Alternative Numerical Methods\n",
    "\n",
    "The FTCS method is stable for the diffusion equation, but it requires $\\Delta t \\leq \\Delta x^2/(2D)$. This means that if I increase the number of points in x by a factor of 2, the number of iterations in time increase by a factor of 4. FTCS is therefore computationally expensive.\n",
    "\n",
    "There are alternative methods that can be used to avoid this issue.\n",
    "\n",
    "### BTCS Method\n",
    "\n",
    "The Backward in Time - Centered in Space (BTCS) is an implict method that is stable for any choice of $\\Delta t$. The method is still first order in time, so the error will go like $\\Delta t$. Hence it is always a good idea to choose a sufficiently small $\\Delta t$, but it can be much larger than the one to be used in the FTCS method.\n",
    "\n",
    "$$\n",
    "u^{n+1}_j = u^n_j + D \\frac{\\Delta t}{\\Delta x^2} \\left( u^{n+1}_{j+1} - 2 u^{n+1}_j + u^{n+1}_{j-1} \\right)\n",
    "$$\n",
    "\n",
    "### Crank-Nicholson Method\n",
    "\n",
    "This method computes $\\frac{\\partial u}{\\partial t}$ at time $n+1/2$, by using a centered derivative with half step $\\Delta t/2$, and it computes the derivative in space at $n+1/2$ by taking an average of the space derivative computed at $n$ and $n+1$:\n",
    "\n",
    "$$\n",
    "u^{n+1}_j = u^n_j + D \\frac{\\Delta t}{2\\Delta x^2} \\left[ \\left( u^{n+1}_{j+1} - 2 u^{n+1}_j + u^{n+1}_{j-1} \\right) + \\left( u^{n}_{j+1} - 2 u^{n}_j + u^{n}_{j-1} \\right)\\right]\n",
    "$$\n",
    "\n",
    "This method is also unconditionally stable as the BTCS, but it is second order both in time and in space.\n",
    "\n",
    "### Dufort-Frankel Method\n",
    "\n",
    "This method uses a second order approximation in time (like in the Leapfrog scheme) and a second order approximation in space, as the FTCS, but replacing $u^n_j$ with the average $\\frac{1}{2}(u^{n+1}_j+u^{n-1}_j)$:\n",
    "\n",
    "$$\n",
    "\\frac{u^{n+1}_j-u^{n-1}_j}{2\\Delta t} = \\frac{D}{\\Delta x^2}\\left[ u^n_{j+1} -\\frac{2}{2} \\left( u^{n+1}_j + u^{n-1}_j \\right) + u^n_{j-1} \\right]\n",
    "$$\n",
    "\n",
    "which is equvalent to (just rearrange the terms in the expression above)\n",
    "\n",
    "$$\n",
    "u^{n+1}_j = \\left( \\frac{1-2\\alpha}{1+2\\alpha} \\right) u^{n-1}_j + \\left( \\frac{2\\alpha}{1+2\\alpha} \\right) (u^n_{j+1}+u^n_{j-1})\n",
    "$$\n",
    "\n",
    "where $\\alpha = D \\Delta t/\\Delta x^2 $.\n",
    "\n",
    "This method is explicit, so easier to implement, it is unconditionally stable, and it is second order both in space and in time. Like the Leapfrog scheme it has the disadvantage of requiring 3 timelevels instead of 2."
   ]
  },
  {
   "cell_type": "markdown",
   "metadata": {},
   "source": [
    "### Exercise\n",
    "\n",
    "Use one of the above methods to solve the diffusion equation using one of the initial data you used before. Comment on the results, focusing on the resolution required to get a result similar to the one obtained with the FTCS method.\n",
    "\n",
    "Note: the implicit methods will require you to solve an algebraic system of equations and work with a banded matrix (you can use python [scipy](https://docs.scipy.org/doc/scipy/index.html) to solve it, e.g., [solve_banded](https://docs.scipy.org/doc/scipy/reference/generated/scipy.linalg.solve_banded.html)). The Dufort-Frankel method instead will require two time levels to start. You can do a first step with FTCS and then continue with the Dufort-Frankel method."
   ]
  },
  {
   "cell_type": "code",
   "execution_count": null,
   "metadata": {},
   "outputs": [],
   "source": []
  },
  {
   "cell_type": "code",
   "execution_count": null,
   "metadata": {},
   "outputs": [],
   "source": []
  }
 ],
 "metadata": {
  "kernelspec": {
   "display_name": "Python 3",
   "language": "python",
   "name": "python3"
  },
  "language_info": {
   "codemirror_mode": {
    "name": "ipython",
    "version": 3
   },
   "file_extension": ".py",
   "mimetype": "text/x-python",
   "name": "python",
   "nbconvert_exporter": "python",
   "pygments_lexer": "ipython3",
   "version": "3.8.3"
  }
 },
 "nbformat": 4,
 "nbformat_minor": 4
}
