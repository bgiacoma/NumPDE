{
 "cells": [
  {
   "cell_type": "markdown",
   "metadata": {},
   "source": [
    "# Elliptic Partial Differential Equations"
   ]
  },
  {
   "cell_type": "markdown",
   "metadata": {},
   "source": [
    "## Poisson Equation\n",
    "\n",
    "Here we solve the Poisson equation\n",
    "\n",
    "$$\n",
    "\\nabla^2 \\phi(x,y) = \\rho(x,y)\n",
    "$$\n",
    "\n",
    "by using finite difference methods.\n",
    "\n",
    "## Relaxation Methods\n",
    "\n",
    "The first method we are going to use is very simple to implement and it is called relaxation method. The idea is to convert the Poisson equation inot a 2D diffusion equation with a source term:\n",
    "\n",
    "$$\n",
    "\\frac{\\partial \\phi(t,x,y)}{\\partial t} = \\nabla^2 \\phi(t,x,y) - \\rho(x,y)\n",
    "$$\n",
    "\n",
    "and evolve $\\phi$ until the error $\\xi \\equiv |\\nabla^2 \\phi(t,x,y) - \\rho(x,y)|$ is below a certain threshold. One has to pay attention to chose initial data $\\phi(t=0,x,y)$ as close as possible to the exact solution (in general this is not known of course, so one has to use some intuition) in order to converge (\"relax\") in a small number of step to the desired solution.\n",
    "\n",
    "Since we have 2 spatial dimensions,  we will use the following notation:\n",
    "$$\n",
    "\\phi^n_{i,j} \\equiv \\phi(t^n,x_i,y_j) \n",
    "$$\n",
    "\n",
    "We solve this diffusion equation using the FTCS method which is stable for the 2D diffusion equation as long as $\\Delta t \\leq \\frac{\\Delta x \\Delta y}{(4 D)}$, where in our case the diffusion coefficient $D$ is $1$.\n",
    "\n",
    "We will also assume for simplicity that $\\Delta x = \\Delta y = h$. The FTCS scheme in this case can be derived in the following way (remember that we approximate the time derivative at first order and the spatial derivative at second order):\n",
    "\n",
    "$$\n",
    "\\frac{\\partial \\phi(t,x,y)}{\\partial t} = \\nabla^2 \\phi(t,x,y) - \\rho(x,y) \\\\\n",
    "%\n",
    "\\frac{\\partial \\phi(t,x,y)}{\\partial t} = \\frac{\\partial^2 \\phi(t,x,y)}{\\partial x^2} + \\frac{\\partial^2 \\phi(t,x,y)}{\\partial y^2} - \\rho(x,y) \\\\\n",
    "%\n",
    "\\frac{\\phi^{n+1}_{i,j}-\\phi^n_{i,j}}{\\Delta t} = \\frac{\\phi^n_{i+1,j} - 2 \\phi^n_{i,j} + \\phi^n_{i-1,j}}{\\Delta x^2} + \\frac{\\phi^n_{i,j+1} - 2 \\phi^n_{i,j} + \\phi^n_{i,j-1}}{\\Delta y^2} - \\rho_{i,j} \\\\\n",
    "%\n",
    "\\phi^{n+1}_{i,j} = \\phi^n_{i,j} + \\frac{\\Delta t}{h^2} \\left(\\phi^n_{i+1,j} + \\phi^n_{i-1,j} + \\phi^n_{i,j+1} + \\phi^n_{i,j-1} - 4 \\phi^n_{i,j} \\right) - \\rho_{i,j} \\Delta t\n",
    "$$\n",
    "\n",
    "\n",
    "At each time step the error will simply be given by:\n",
    "$$\n",
    "\\xi^n_{i,j} = \\frac{\\phi^n_{i+1,j} + \\phi^n_{i-1,j} + \\phi^n_{i,j+1} + \\phi^n_{i,j-1} - 4 \\phi^n_{i,j}}{h^2} - \\rho_{i,j}\n",
    "$$"
   ]
  },
  {
   "cell_type": "markdown",
   "metadata": {},
   "source": [
    "Let's use this method to solve the following elliptic equation:\n",
    "\n",
    "$$\n",
    "\\nabla^2 \\phi = -5 \\sin(x+2y)\n",
    "$$\n",
    "\n",
    "This equation has an analytic solution with which we can compare our result:\n",
    "\n",
    "$$\n",
    "\\phi_A = \\sin(x+2y)\n",
    "$$\n",
    "\n",
    "We will use as initial data $\\phi(t=0,x,y)=1$ and use the analytic solution for our boundary conditions. The domain is set to be $x \\in [0,\\pi]$ and $y \\in [0,\\pi]$.\n",
    "\n",
    "We will also set $\\Delta t = h^2/4$ and evolve until $\\max(|\\xi^n_{i,j}|) \\leq 10^{-3}$."
   ]
  },
  {
   "cell_type": "code",
   "execution_count": 15,
   "metadata": {},
   "outputs": [
    {
     "name": "stdout",
     "output_type": "stream",
     "text": [
      "nx= 32\n",
      "dx= 1.01e-01\n",
      "dt= 2.57e-03\n",
      "error_max= 2.05e+02\n",
      "iteration= [0]\n"
     ]
    }
   ],
   "source": [
    "import numpy as np\n",
    "\n",
    "# Define the domain\n",
    "L = np.pi       # Domain length\n",
    "nx = 32         # Number of grid points\n",
    "dx = L/(nx-1)   # Grid spacing\n",
    "x = np.linspace(0, L, nx)\n",
    "y = np.linspace(0, L, nx)\n",
    "\n",
    "# Create 2D coordinate grid\n",
    "X, Y = np.meshgrid(x, y, indexing='ij')\n",
    "\n",
    "# Define the time step\n",
    "dt = dx**2/4   #Time step\n",
    "\n",
    "print('nx=',nx)\n",
    "print('dx=',f\"{dx:.2e}\")\n",
    "print('dt=',f\"{dt:.2e}\")\n",
    "\n",
    "#analytic solution\n",
    "exact = np.sin(X+2*Y)\n",
    "# exact[i, j] corresponds to exact(x[i], y[j]) because we set indexing='ij' in np.meshgrid\n",
    "\n",
    "#source term rho_ij\n",
    "rho = -5*np.sin(X+2*Y)\n",
    "\n",
    "# Define the initial condition\n",
    "u_initial = np.ones(exact.shape)\n",
    "\n",
    "# Initialize the solution array\n",
    "u_current = u_initial.copy()\n",
    "\n",
    "#boundary conditions\n",
    "u_current[0,:] = exact[0,:]\n",
    "u_current[:,0] = exact[:,0]\n",
    "u_current[-1,:] = exact[-1,:]\n",
    "u_current[:,-1] = exact[:,-1]\n",
    "\n",
    "error = ( (np.roll(u_current, 1, axis=0) + np.roll(u_current, -1, axis=0) + np.roll(u_current, 1, axis=1)\n",
    "           + np.roll(u_current, -1, axis=1) - 4*u_current )/dx**2 - rho )\n",
    "error[:,0] = 0 #boundary conditions\n",
    "error[0,:] = 0 #boundary conditions\n",
    "error[:,-1] = 0 #boundary conditions\n",
    "error[-1,:] = 0 #boundary conditions\n",
    "\n",
    "\n",
    "#we create arrays where we will store the iteration and the maxoimu value of the error\n",
    "error_max=[]\n",
    "error_max.append(np.max(np.abs(error)))\n",
    "\n",
    "print('error_max=', f\"{error_max[-1]:.2e}\")\n",
    "\n",
    "iteration=[]\n",
    "iteration.append(0)\n",
    "\n",
    "print('iteration=', iteration)"
   ]
  },
  {
   "cell_type": "code",
   "execution_count": 16,
   "metadata": {},
   "outputs": [
    {
     "data": {
      "image/png": "[encoded data removed]",
      "text/plain": [
       "<Figure size 432x360 with 2 Axes>"
      ]
     },
     "metadata": {
      "needs_background": "light"
     },
     "output_type": "display_data"
    }
   ],
   "source": [
    "import matplotlib.pyplot as plt\n",
    "\n",
    "#plot the the analytic solution\n",
    "plt.figure(figsize=(6, 5))\n",
    "plt.pcolormesh(X, Y, exact, shading='auto', cmap='viridis')  # or 'jet', 'plasma', etc.\n",
    "plt.colorbar(label='exact solution')\n",
    "plt.xlabel('x')\n",
    "plt.ylabel('y')\n",
    "plt.show()"
   ]
  },
  {
   "cell_type": "code",
   "execution_count": 20,
   "metadata": {},
   "outputs": [
    {
     "data": {
      "image/png": "[encoded data removed]",
      "text/plain": [
       "<Figure size 432x288 with 2 Axes>"
      ]
     },
     "metadata": {
      "needs_background": "light"
     },
     "output_type": "display_data"
    }
   ],
   "source": [
    "plt.imshow(exact, extent=[x.min(), x.max(), y.min(), y.max()],\n",
    "           origin='lower', aspect='auto', cmap='viridis')\n",
    "plt.colorbar(label='exact solution')\n",
    "plt.xlabel('x')\n",
    "plt.ylabel('y')\n",
    "plt.show()"
   ]
  },
  {
   "cell_type": "code",
   "execution_count": 19,
   "metadata": {},
   "outputs": [
    {
     "data": {
      "image/png": "[encoded data removed]",
      "text/plain": [
       "<Figure size 432x360 with 2 Axes>"
      ]
     },
     "metadata": {
      "needs_background": "light"
     },
     "output_type": "display_data"
    }
   ],
   "source": [
    "#plot the the initial guess\n",
    "plt.figure(figsize=(6, 5))\n",
    "plt.pcolormesh(X, Y, u_current, shading='none', cmap='viridis')  # or 'jet', 'plasma', etc.\n",
    "plt.colorbar(label='initial guess')\n",
    "plt.xlabel('x')\n",
    "plt.ylabel('y')\n",
    "plt.show()"
   ]
  },
  {
   "cell_type": "code",
   "execution_count": 18,
   "metadata": {},
   "outputs": [
    {
     "data": {
      "image/png": "[encoded data removed]",
      "text/plain": [
       "<Figure size 432x288 with 2 Axes>"
      ]
     },
     "metadata": {
      "needs_background": "light"
     },
     "output_type": "display_data"
    }
   ],
   "source": [
    "plt.imshow(u_current, extent=[x.min(), x.max(), y.min(), y.max()],\n",
    "           origin='lower', aspect='auto', cmap='viridis')\n",
    "plt.colorbar(label='initial guess')\n",
    "plt.xlabel('x')\n",
    "plt.ylabel('y')\n",
    "plt.show()"
   ]
  },
  {
   "cell_type": "code",
   "execution_count": null,
   "metadata": {},
   "outputs": [],
   "source": [
    "import os\n",
    "##create directory where to save images\n",
    "print(os.getcwd())\n",
    "\n",
    "os.makedirs('./images_elliptic')\n",
    "\n",
    "os.listdir('./')"
   ]
  },
  {
   "cell_type": "code",
   "execution_count": null,
   "metadata": {},
   "outputs": [],
   "source": [
    "# Initilize time and iteration counter\n",
    "i = 0\n",
    "\n",
    "#save the initial conditions\n",
    "plt.plot(x, u_current)\n",
    "plt.title('Time='+str(round(t,2)))\n",
    "plt.ylim(0,1.1)\n",
    "plt.savefig('./images_elliptic/fig_'+str(i).zfill(5)+'.png', dpi=200)\n",
    "plt.close()\n",
    "\n",
    "#solve the advection equation\n",
    "while t < t_final:\n",
    "    # Compute the new solution using the FTCS method\n",
    "    # Note: np.roll(u_current, -1) is equivalent to u(j+1) and\n",
    "    #       np.roll(u_current,  1) is equivalent to u(j-1)\n",
    "    # using np.roll is equivalent to use periodic boundary conditions\n",
    "    u_next = u_current + (dt/(dx**2)* (np.roll(u_current, 1, axis=0) + np.roll(u_current, -1, axis=0) + \n",
    "                                       np.roll(u_current, 1, axis=1) + np.roll(u_current, -1, axis=1) - 4*u_current ) -\n",
    "                          rho*dt)\n",
    "    #boundary conditions\n",
    "    u_next[0,:] = exact[0,:]\n",
    "    u_next[:,0] = exact[:,0]\n",
    "    u_next[-1,:] = exact[-1,:]\n",
    "    u_next[:,-1] = exact[:,-1]\n",
    "    \n",
    "    # Update the solution\n",
    "    u_current = u_next.copy()\n",
    "    \n",
    "    \n",
    "    #advance the iteration counter\n",
    "    i += 1\n",
    "    \n",
    "    \n",
    "    error = ( (np.roll(u_current, 1, axis=0) + np.roll(u_current, -1, axis=0) + np.roll(u_current, 1, axis=1)\n",
    "           + np.roll(u_current, -1, axis=1) - 4*u_current )/dx**2 - rho )\n",
    "    error[:,0] = 0 #boundary conditions\n",
    "    error[0,:] = 0 #boundary conditions\n",
    "    error[:,-1] = 0 #boundary conditions\n",
    "    error[-1,:] = 0 #boundary conditions\n",
    "\n",
    "    error_max.append(np.max(np.abs(error)))\n",
    "\n",
    "    print('error_max=', f\"{error_max[-1]:.2e}\")\n",
    "\n",
    "    iteration.append(i)\n",
    "\n",
    "    print('iteration=', iteration[-1])\n",
    "    \n",
    "     \n",
    "    #plot the current result and save in an image every 10 iterations\n",
    "    if (i%10==0):\n",
    "        plt.plot(x, u_current)\n",
    "        plt.title('Time='+str(round(t,2)))\n",
    "        plt.ylim(0,1.1)\n",
    "        plt.savefig('./images_elliptic/fig_'+str(i).zfill(5)+'.png', dpi=200)\n",
    "        plt.close()\n"
   ]
  },
  {
   "cell_type": "code",
   "execution_count": null,
   "metadata": {},
   "outputs": [],
   "source": [
    "# Plot the final solution\n",
    "plt.plot(x, u_initial, label='Initial')\n",
    "plt.plot(x, u_current, label='Final')\n",
    "plt.title('Time='+str(round(t,2)))\n",
    "plt.ylim(0,1.1)\n",
    "plt.legend()\n",
    "plt.show()"
   ]
  },
  {
   "cell_type": "code",
   "execution_count": null,
   "metadata": {},
   "outputs": [],
   "source": [
    "# set the directory where your images are stored\n",
    "directory = \"./images_elliptic/\"\n",
    "\n",
    "# get the list of image files in the directory\n",
    "files = os.listdir(directory)\n",
    "\n",
    "print(files, '\\n')\n",
    "\n",
    "# sort the files in alphanumeric order\n",
    "files=sorted(files)\n",
    "\n",
    "print(files)\n",
    "\n",
    "\n"
   ]
  },
  {
   "cell_type": "code",
   "execution_count": null,
   "metadata": {},
   "outputs": [],
   "source": [
    "import imageio\n",
    "with imageio.get_writer('./movie.mp4', mode='I', quality=10) as writer:\n",
    "    for file in files:\n",
    "        image = imageio.imread('./images_elliptic/'+file)\n",
    "        writer.append_data(image)\n",
    "        \n",
    "files=[]\n"
   ]
  },
  {
   "cell_type": "code",
   "execution_count": null,
   "metadata": {},
   "outputs": [],
   "source": [
    "# don't worry about the code in this cell, it is just to let you \n",
    "# display the movies you generated above in Jupyter notebook\n",
    "from IPython.display import HTML\n",
    "\n",
    "HTML(\"\"\"\n",
    "<div align=\"middle\">\n",
    "<video width=\"80%\" controls>\n",
    "      <source src=\"./movie.mp4\" type=\"video/mp4\">\n",
    "</video></div>\"\"\")"
   ]
  },
  {
   "cell_type": "code",
   "execution_count": null,
   "metadata": {},
   "outputs": [],
   "source": [
    "plt.plot(time,l2norm)\n",
    "plt.show()"
   ]
  },
  {
   "cell_type": "code",
   "execution_count": null,
   "metadata": {},
   "outputs": [],
   "source": []
  },
  {
   "cell_type": "code",
   "execution_count": null,
   "metadata": {},
   "outputs": [],
   "source": []
  },
  {
   "cell_type": "markdown",
   "metadata": {},
   "source": [
    "## Alternative Numerical Methods\n",
    "\n",
    "xxx\n",
    "\n",
    "### Gauss-Seidel Method\n"
   ]
  },
  {
   "cell_type": "code",
   "execution_count": null,
   "metadata": {},
   "outputs": [],
   "source": []
  }
 ],
 "metadata": {
  "kernelspec": {
   "display_name": "Python 3",
   "language": "python",
   "name": "python3"
  },
  "language_info": {
   "codemirror_mode": {
    "name": "ipython",
    "version": 3
   },
   "file_extension": ".py",
   "mimetype": "text/x-python",
   "name": "python",
   "nbconvert_exporter": "python",
   "pygments_lexer": "ipython3",
   "version": "3.8.3"
  }
 },
 "nbformat": 4,
 "nbformat_minor": 4
}
