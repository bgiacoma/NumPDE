{
 "cells": [
  {
   "cell_type": "markdown",
   "metadata": {},
   "source": [
    "# Hyperbolic Partial Differential Equations"
   ]
  },
  {
   "cell_type": "markdown",
   "metadata": {},
   "source": [
    "## Advection Equation\n",
    "\n",
    "Here we solve the advection equation \n",
    "$$\n",
    "\\frac{\\partial u}{\\partial t} + a \\frac{\\partial u}{\\partial x}=0\n",
    "$$ \n",
    "\n",
    "using as an initial condition a gaussian profile $u(x,t=0)=\\exp{[-(x-x_0)^2]}$ with $x_0=5$.\n",
    "\n",
    "We use a domain $x\\in [0,10]$ with periodic boundary conditions."
   ]
  },
  {
   "cell_type": "code",
   "execution_count": null,
   "metadata": {},
   "outputs": [],
   "source": [
    "import numpy as np\n",
    "import matplotlib.pyplot as plt\n",
    "\n",
    "#define the speed a\n",
    "a=1.0\n",
    "\n",
    "# Define the domain\n",
    "L = 10.0     # Domain length\n",
    "nx = 101    # Number of grid points\n",
    "dx = L/(nx-1)   # Grid spacing\n",
    "x = np.linspace(0, L, nx)\n",
    "\n",
    "# Define the time step and the final time\n",
    "cf = 0.5\n",
    "dt = cf*dx/a   # Time step\n",
    "t_final = 20.0\n",
    "\n",
    "print('nx=',nx)\n",
    "print('dx=',dx)\n",
    "print('dt=',dt)\n",
    "print('Number of iterations=',t_final/dt)\n",
    "\n",
    "\n",
    "# Define the initial condition\n",
    "x0=5\n",
    "u_initial = np.exp(-(x-x0)**2)\n",
    "\n",
    "# Initialize the solution array\n",
    "u_current = u_initial.copy()\n",
    "\n",
    "#we create arrays where we will store the time and the l2norm\n",
    "l2norm=[]\n",
    "l2norm.append(np.sqrt(np.sum(u_current**2)/len(u_current)))\n",
    "\n",
    "time=[]\n",
    "time.append(0.0)\n",
    "\n",
    "#we plot the initial data\n",
    "plt.ylim(-0.1,1.1)\n",
    "plt.plot(x, u_current)\n",
    "plt.show()"
   ]
  },
  {
   "cell_type": "code",
   "execution_count": null,
   "metadata": {},
   "outputs": [],
   "source": [
    "import os\n",
    "##create directory where to save images\n",
    "print(os.getcwd())\n",
    "\n",
    "os.makedirs('./images')\n",
    "\n",
    "os.listdir('./')"
   ]
  },
  {
   "cell_type": "markdown",
   "metadata": {},
   "source": [
    "### FTCS\n",
    "\n",
    "The Forward in Time - Centered in Space (FTCS) is the first scheme we are going to use. It is first order in time and second order in space:\n",
    "\n",
    "$$\n",
    "u^{n+1}_j = u^n_j - \\frac{a\\Delta t}{2\\Delta x} \\left( u^n_{j+1} - u^n_{j-1}  \\right)\n",
    "$$"
   ]
  },
  {
   "cell_type": "code",
   "execution_count": null,
   "metadata": {},
   "outputs": [],
   "source": [
    "# Initilize time and iteration counter\n",
    "t = 0.0\n",
    "i = 0\n",
    "\n",
    "#save the initial conditions\n",
    "plt.plot(x, u_current)\n",
    "plt.title('Time='+str(round(t,2)))\n",
    "plt.ylim(-0.1,1.1)\n",
    "plt.savefig('./images/fig_'+str(i).zfill(5)+'.png', dpi=200)\n",
    "plt.close()\n",
    "\n",
    "#solve the advection equation\n",
    "while t < t_final:\n",
    "    # Compute the new solution using the FTCS method\n",
    "    # Note: np.roll(u_current, -1) is equivalent to u(j+1) and\n",
    "    #       np.roll(u_current,  1) is equivalent to u(j-1)\n",
    "    # using np.roll is equivalent to use periodic boundary conditions\n",
    "    u_next = u_current - a*dt/(2*dx)*(np.roll(u_current, -1) - np.roll(u_current, 1))\n",
    "    \n",
    "    # Update the solution\n",
    "    u_current = u_next.copy()\n",
    "    \n",
    "    \n",
    "    #advance the time \n",
    "    t += dt\n",
    "    i += 1\n",
    "    \n",
    "    #compute the l2 norm and add the time to the time vector\n",
    "    l2norm.append(np.sqrt(np.sum(u_current**2)/len(u_current)))\n",
    "    time.append(t)\n",
    "    \n",
    "    #plot the current result and save in an image every 10 iterations\n",
    "    if (i%10==0):\n",
    "        plt.plot(x, u_current)\n",
    "        plt.title('Time='+str(round(t,2)))\n",
    "        plt.ylim(-0.1,1.1)\n",
    "        plt.savefig('./images/fig_'+str(i).zfill(5)+'.png', dpi=200)\n",
    "        plt.close()\n"
   ]
  },
  {
   "cell_type": "code",
   "execution_count": null,
   "metadata": {},
   "outputs": [],
   "source": [
    "# Plot the final solution\n",
    "plt.plot(x, u_initial, label='Initial')\n",
    "plt.plot(x, u_current, label='Final')\n",
    "plt.title('Time='+str(round(t,2)))\n",
    "plt.ylim(-0.1,1.1)\n",
    "plt.legend()\n",
    "plt.show()"
   ]
  },
  {
   "cell_type": "code",
   "execution_count": null,
   "metadata": {},
   "outputs": [],
   "source": [
    "# set the directory where your images are stored\n",
    "directory = \"./images/\"\n",
    "\n",
    "# get the list of image files in the directory\n",
    "files = os.listdir(directory)\n",
    "\n",
    "print(files, '\\n')\n",
    "\n",
    "# sort the files in alphanumeric order\n",
    "files=sorted(files)\n",
    "\n",
    "print(files)\n",
    "\n",
    "\n"
   ]
  },
  {
   "cell_type": "code",
   "execution_count": null,
   "metadata": {},
   "outputs": [],
   "source": [
    "import imageio\n",
    "with imageio.get_writer('./movie.mp4', mode='I', quality=10) as writer:\n",
    "    for file in files:\n",
    "        image = imageio.imread('./images/'+file)\n",
    "        writer.append_data(image)\n",
    "        \n",
    "files=[]\n"
   ]
  },
  {
   "cell_type": "code",
   "execution_count": null,
   "metadata": {},
   "outputs": [],
   "source": [
    "# don't worry about the code in this cell, it is just to let you \n",
    "# display the movies you generated above in Jupyter notebook\n",
    "from IPython.display import HTML\n",
    "\n",
    "HTML(\"\"\"\n",
    "<div align=\"middle\">\n",
    "<video width=\"80%\" controls>\n",
    "      <source src=\"./movie.mp4\" type=\"video/mp4\">\n",
    "</video></div>\"\"\")"
   ]
  },
  {
   "cell_type": "code",
   "execution_count": null,
   "metadata": {},
   "outputs": [],
   "source": [
    "plt.plot(time,l2norm)\n",
    "plt.show()"
   ]
  },
  {
   "cell_type": "markdown",
   "metadata": {},
   "source": [
    "As you can see this method is unstable since it develops oscillations that grow in time and destroy the solution.\n",
    "\n",
    "You can try instead to use the following methods that are stable as long as the Courant-Friedrichs-Lewy (CFL) condition is satisfied:\n",
    "$$\n",
    "\\frac{|a|\\Delta t}{\\Delta x} \\leq 1\n",
    "$$\n",
    "\n",
    "This condition essentially requires that your numerical domain of dependence is larger than the physical domain of dependence.\n",
    "\n",
    "### Lax-Friedrichs\n",
    "\n",
    "This method is also first order like the FTCS, but it adds a dissipative term to remove the instabilities present in the FTCS scheme:\n",
    "\n",
    "$$\n",
    "u^{n+1}_j = \\frac{1}{2}\\left( u^n_{j-1}+u^n_{j+1} \\right) - \\frac{a\\Delta t}{2\\Delta x} \\left( u^n_{j+1} - u^n_{j-1}  \\right)\n",
    "$$\n",
    "\n",
    "### Upwind\n",
    "\n",
    "This method is also first order, but it is less dissipative than Lax-Friedrichs. It has two versions depending on the sign of $a$:\n",
    "\n",
    "1. if $a>0$\n",
    "    $$\n",
    "    u^{n+1}_j = u^n_j - \\frac{a\\Delta t}{\\Delta x} \\left( u^n_{j} - u^n_{j-1}  \\right)\n",
    "    $$\n",
    "    \n",
    "2. if $a<0$\n",
    "    $$\n",
    "    u^{n+1}_j = u^n_j - \\frac{a\\Delta t}{\\Delta x} \\left( u^n_{j+1} - u^n_{j}  \\right)\n",
    "    $$\n",
    "\n",
    "### Leapfrog\n",
    "\n",
    "This method is second order, but it requires three timelevels:\n",
    "\n",
    "$$\n",
    "u^{n+1}_j = u^{n-1}_j - \\frac{a\\Delta t}{\\Delta x} \\left( u^n_{j+1} - u^n_{j-1}  \\right)\n",
    "$$\n",
    "\n",
    "### Lax-Wendroff\n",
    "\n",
    "This method is also second order, but it requires only two timelevels making its implementation easier than Leapfrog:\n",
    "\n",
    "$$\n",
    "u^{n+1}_j = u^n_j - \\frac{a \\Delta t}{2\\Delta x} \\left( u^n_{j+1} - u^n_{j-1}  \\right) + \\frac{a^2 \\Delta t^2}{2\\Delta x^2} \\left( u^n_{j+1} - 2 u^n_j + u^n_{j-1}  \\right)\n",
    "$$"
   ]
  },
  {
   "cell_type": "markdown",
   "metadata": {},
   "source": [
    "### Exercise\n",
    "\n",
    "Use two of the above methods to solve the advection equation and check what happens when increasing the resolution (use at least three different resolutions). Plot the solution $u(x,t)$ as a function of $x$ at different times, inclduding $t=0$ and $t=20$. Plot also the l2-norm and comment on what you observe."
   ]
  },
  {
   "cell_type": "code",
   "execution_count": null,
   "metadata": {},
   "outputs": [],
   "source": []
  },
  {
   "cell_type": "code",
   "execution_count": null,
   "metadata": {},
   "outputs": [],
   "source": []
  },
  {
   "cell_type": "markdown",
   "metadata": {},
   "source": [
    "## Step Function\n",
    "\n",
    "Solve the advection equation using a step function for the initial data:\n",
    "\n",
    "$$\n",
    "u(x,t=0) = 1 \\quad \\mathrm{for}\\quad x \\in [4,6]\\\\\n",
    "u(x,t=0) = 0 \\quad \\mathrm{otherwise} \n",
    "$$\n",
    "\n",
    "Compare the first-order **upwind** scheme with the second-order **Lax-Wendroff** scheme. Which one is more accurate in this case?"
   ]
  },
  {
   "cell_type": "code",
   "execution_count": null,
   "metadata": {},
   "outputs": [],
   "source": []
  },
  {
   "cell_type": "code",
   "execution_count": null,
   "metadata": {},
   "outputs": [],
   "source": []
  }
 ],
 "metadata": {
  "kernelspec": {
   "display_name": "Python 3",
   "language": "python",
   "name": "python3"
  },
  "language_info": {
   "codemirror_mode": {
    "name": "ipython",
    "version": 3
   },
   "file_extension": ".py",
   "mimetype": "text/x-python",
   "name": "python",
   "nbconvert_exporter": "python",
   "pygments_lexer": "ipython3",
   "version": "3.8.3"
  }
 },
 "nbformat": 4,
 "nbformat_minor": 4
}
